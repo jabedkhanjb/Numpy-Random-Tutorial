{
 "cells": [
  {
   "cell_type": "markdown",
   "id": "48687a2d",
   "metadata": {},
   "source": [
    "# Random Data Distribution"
   ]
  },
  {
   "cell_type": "markdown",
   "id": "53fa490a",
   "metadata": {},
   "source": [
    "#### @jabedkhanjb"
   ]
  },
  {
   "cell_type": "markdown",
   "id": "6d3079e4",
   "metadata": {},
   "source": [
    "# What is Data Distribution?\n",
    "\n",
    "Data Distribution is a list of all possible values, and how often each value occurs.\n",
    "\n",
    "Such lists are important when working with statistics and data science.\n",
    "\n",
    "The random module offer methods that returns randomly generated data distributions."
   ]
  },
  {
   "cell_type": "markdown",
   "id": "6d2c4472",
   "metadata": {},
   "source": [
    "# Random Distribution\n",
    "\n",
    "A random distribution is a set of random numbers that follow a certain probability density function."
   ]
  },
  {
   "cell_type": "markdown",
   "id": "08b65ae1",
   "metadata": {},
   "source": [
    "We can generate random numbers based on defined probabilities using the <b>choice()</b> method of the <b>random</b> module.\n",
    "\n",
    "The <b>choice()</b> method allows us to specify the probability for each value.\n",
    "\n",
    "The probability is set by a number between 0 and 1, where 0 means that the value will never occur and 1 means that the value will always occur."
   ]
  },
  {
   "cell_type": "markdown",
   "id": "0b10224e",
   "metadata": {},
   "source": [
    "Generate a 1-D array containing 100 values, where each value has to be 1, 2, 3, 4.\n",
    "\n",
    "The probability for the value to be 1 is set to be 0.5\n",
    "\n",
    "The probability for the value to be 2 is set to be 0.3\n",
    "\n",
    "The probability for the value to be 3 is set to be 0.1\n",
    "\n",
    "The probability for the value to be 4 is set to be 0.1\n",
    "\n",
    "Summation of Probability should be 1 else code would be error."
   ]
  },
  {
   "cell_type": "code",
   "execution_count": 21,
   "id": "bccb0f0b",
   "metadata": {},
   "outputs": [
    {
     "name": "stdout",
     "output_type": "stream",
     "text": [
      "[1 2 1 2 1 1 1 2 2 1 1 1 2 1 2 3 1 1 2 1 1 1 4 3 1 2 2 2 4 4 3 1 1 1 4 1 1\n",
      " 1 4 4 3 1 1 1 4 2 2 1 4 2 2 1 2 1 1 1 2 3 1 1 4 2 1 2 1 2 1 1 2 4 1 1 1 1\n",
      " 4 1 4 1 1 1 1 1 1 4 2 3 3 4 2 4 1 1 2 1 2 3 4 2 1 2]\n"
     ]
    }
   ],
   "source": [
    "from numpy import random\n",
    "\n",
    "x = random.choice([1,2,3,4], p=[0.5, 0.3, 0.1, 0.1], size=(100))\n",
    "\n",
    "print(x)"
   ]
  },
  {
   "cell_type": "markdown",
   "id": "6c6f54af",
   "metadata": {},
   "source": [
    "<b>The sum of all probability numbers should be 1.</b>"
   ]
  },
  {
   "cell_type": "markdown",
   "id": "d3c64472",
   "metadata": {},
   "source": [
    "Return a 2-D array with 3 rows, each containing 5 values."
   ]
  },
  {
   "cell_type": "code",
   "execution_count": 26,
   "id": "08b690d7",
   "metadata": {},
   "outputs": [
    {
     "name": "stdout",
     "output_type": "stream",
     "text": [
      "[[2 2 1 4 2]\n",
      " [4 2 2 1 2]\n",
      " [1 2 1 2 1]\n",
      " [1 1 1 2 3]\n",
      " [2 1 1 1 1]\n",
      " [1 1 2 4 3]\n",
      " [3 2 3 1 3]\n",
      " [1 2 1 2 1]\n",
      " [2 1 1 2 1]\n",
      " [1 2 2 1 1]\n",
      " [1 4 1 1 1]\n",
      " [3 1 1 1 3]\n",
      " [1 2 2 2 1]\n",
      " [3 1 1 1 4]\n",
      " [3 1 1 2 2]\n",
      " [1 4 3 1 3]\n",
      " [4 1 1 2 3]\n",
      " [2 4 2 1 4]\n",
      " [3 4 4 2 1]\n",
      " [1 1 2 1 2]\n",
      " [1 1 2 1 1]\n",
      " [2 1 1 1 1]\n",
      " [1 1 1 1 1]\n",
      " [1 1 2 2 2]\n",
      " [2 1 1 1 1]]\n"
     ]
    }
   ],
   "source": [
    "from numpy import random\n",
    "\n",
    "x = random.choice([1,2,3,4], p=[0.5, 0.3, 0.1, 0.1], size=(25, 5))\n",
    "\n",
    "print(x)"
   ]
  },
  {
   "cell_type": "code",
   "execution_count": 27,
   "id": "de0d4435",
   "metadata": {},
   "outputs": [
    {
     "name": "stdout",
     "output_type": "stream",
     "text": [
      "The End\n"
     ]
    }
   ],
   "source": [
    "print(\"The End\")"
   ]
  },
  {
   "cell_type": "code",
   "execution_count": null,
   "id": "d9840690",
   "metadata": {},
   "outputs": [],
   "source": []
  }
 ],
 "metadata": {
  "kernelspec": {
   "display_name": "Python 3 (ipykernel)",
   "language": "python",
   "name": "python3"
  },
  "language_info": {
   "codemirror_mode": {
    "name": "ipython",
    "version": 3
   },
   "file_extension": ".py",
   "mimetype": "text/x-python",
   "name": "python",
   "nbconvert_exporter": "python",
   "pygments_lexer": "ipython3",
   "version": "3.9.13"
  }
 },
 "nbformat": 4,
 "nbformat_minor": 5
}
