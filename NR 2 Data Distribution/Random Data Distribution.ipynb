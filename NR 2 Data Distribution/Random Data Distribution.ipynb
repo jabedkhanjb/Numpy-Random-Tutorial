{
 "cells": [
  {
   "cell_type": "markdown",
   "id": "df407987",
   "metadata": {},
   "source": [
    "# Random Data Distribution"
   ]
  },
  {
   "cell_type": "markdown",
   "id": "7bef8fde",
   "metadata": {},
   "source": [
    "#### @jabedkhanjb"
   ]
  },
  {
   "cell_type": "markdown",
   "id": "486799b8",
   "metadata": {},
   "source": [
    "# What is Data Distribution?\n",
    "\n",
    "Data Distribution is a list of all possible values, and how often each value occurs.\n",
    "\n",
    "Such lists are important when working with statistics and data science.\n",
    "\n",
    "The random module offer methods that returns randomly generated data distributions."
   ]
  },
  {
   "cell_type": "markdown",
   "id": "57bef0fc",
   "metadata": {},
   "source": [
    "# Random Distribution\n",
    "\n",
    "A random distribution is a set of random numbers that follow a certain probability density function."
   ]
  },
  {
   "cell_type": "markdown",
   "id": "c032b843",
   "metadata": {},
   "source": [
    "We can generate random numbers based on defined probabilities using the <b>choice()</b> method of the <b>random</b> module.\n",
    "\n",
    "The <b>choice()</b> method allows us to specify the probability for each value.\n",
    "\n",
    "The probability is set by a number between 0 and 1, where 0 means that the value will never occur and 1 means that the value will always occur."
   ]
  },
  {
   "cell_type": "markdown",
   "id": "142c9008",
   "metadata": {},
   "source": [
    "Generate a 1-D array containing 100 values, where each value has to be 1, 2, 3, 4.\n",
    "\n",
    "The probability for the value to be 1 is set to be 0.5\n",
    "\n",
    "The probability for the value to be 2 is set to be 0.3\n",
    "\n",
    "The probability for the value to be 3 is set to be 0.1\n",
    "\n",
    "The probability for the value to be 4 is set to be 0.1\n",
    "\n",
    "Summation of Probability should be 1 else code would be error."
   ]
  },
  {
   "cell_type": "code",
   "execution_count": 21,
   "id": "44705267",
   "metadata": {},
   "outputs": [
    {
     "name": "stdout",
     "output_type": "stream",
     "text": [
      "[1 2 1 2 1 1 1 2 2 1 1 1 2 1 2 3 1 1 2 1 1 1 4 3 1 2 2 2 4 4 3 1 1 1 4 1 1\n",
      " 1 4 4 3 1 1 1 4 2 2 1 4 2 2 1 2 1 1 1 2 3 1 1 4 2 1 2 1 2 1 1 2 4 1 1 1 1\n",
      " 4 1 4 1 1 1 1 1 1 4 2 3 3 4 2 4 1 1 2 1 2 3 4 2 1 2]\n"
     ]
    }
   ],
   "source": [
    "from numpy import random\n",
    "\n",
    "x = random.choice([1,2,3,4], p=[0.5, 0.3, 0.1, 0.1], size=(100))\n",
    "\n",
    "print(x)"
   ]
  },
  {
   "cell_type": "markdown",
   "id": "c8ccdbfa",
   "metadata": {},
   "source": [
    "<b>The sum of all probability numbers should be 1.</b>"
   ]
  },
  {
   "cell_type": "markdown",
   "id": "82f8b09f",
   "metadata": {},
   "source": [
    "Return a 2-D array with 3 rows, each containing 5 values."
   ]
  },
  {
   "cell_type": "code",
   "execution_count": 24,
   "id": "3b3fc3ab",
   "metadata": {},
   "outputs": [
    {
     "name": "stdout",
     "output_type": "stream",
     "text": [
      "[[1 1 2 1 1]\n",
      " [1 1 2 1 2]\n",
      " [3 2 4 3 4]\n",
      " [2 2 1 2 1]\n",
      " [1 1 1 4 2]\n",
      " [2 4 2 1 2]\n",
      " [2 1 1 1 4]\n",
      " [1 1 4 1 3]\n",
      " [1 2 1 1 2]\n",
      " [2 1 4 1 3]\n",
      " [1 3 1 2 1]\n",
      " [1 2 1 1 3]\n",
      " [1 1 1 4 1]\n",
      " [1 3 1 1 3]\n",
      " [2 3 1 1 1]\n",
      " [3 1 1 4 4]\n",
      " [3 3 2 1 4]\n",
      " [2 2 1 1 1]\n",
      " [2 2 1 1 2]\n",
      " [1 1 2 2 3]\n",
      " [3 2 3 2 2]\n",
      " [4 1 1 2 1]\n",
      " [4 2 1 3 1]\n",
      " [1 1 2 1 1]\n",
      " [2 2 2 3 1]]\n"
     ]
    }
   ],
   "source": [
    "from numpy import random\n",
    "\n",
    "x = random.choice([1,2,3,4], p=[0.5, 0.3, 0.1, 0.1], size=(25, 5))\n",
    "\n",
    "print(x)"
   ]
  },
  {
   "cell_type": "code",
   "execution_count": null,
   "id": "a8cddf60",
   "metadata": {},
   "outputs": [],
   "source": []
  }
 ],
 "metadata": {
  "kernelspec": {
   "display_name": "Python 3 (ipykernel)",
   "language": "python",
   "name": "python3"
  },
  "language_info": {
   "codemirror_mode": {
    "name": "ipython",
    "version": 3
   },
   "file_extension": ".py",
   "mimetype": "text/x-python",
   "name": "python",
   "nbconvert_exporter": "python",
   "pygments_lexer": "ipython3",
   "version": "3.9.13"
  }
 },
 "nbformat": 4,
 "nbformat_minor": 5
}
