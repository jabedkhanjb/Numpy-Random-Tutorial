{
 "cells": [
  {
   "cell_type": "markdown",
   "id": "9501dc25",
   "metadata": {},
   "source": [
    "# What is a Random Number?\n",
    "\n",
    "Random number does NOT mean a different number every time. Random means something that can not be predicted logically."
   ]
  },
  {
   "cell_type": "markdown",
   "id": "5d90b074",
   "metadata": {},
   "source": [
    "#### @jabedkhanjb"
   ]
  },
  {
   "cell_type": "markdown",
   "id": "2fbf276c",
   "metadata": {},
   "source": [
    "# Pseudo Random and True Random.\n",
    "\n",
    "Computers work on programs, and programs are definitive set of instructions. So it means there must be some algorithm to generate a random number as well.\n",
    "\n",
    "If there is a program to generate random number it can be predicted, thus it is not truly random.\n",
    "\n",
    "Random numbers generated through a generation algorithm are called pseudo random.\n",
    "\n",
    "Can we make truly random numbers?\n",
    "\n",
    "Yes. In order to generate a truly random number on our computers we need to get the random data from some outside source. This outside source is generally our keystrokes, mouse movements, data on network etc.\n",
    "\n",
    "We do not need truly random numbers, unless its related to security (e.g. encryption keys) or the basis of application is the randomness (e.g. Digital roulette wheels).\n",
    "\n",
    "In this tutorial we will be using pseudo random numbers."
   ]
  },
  {
   "cell_type": "markdown",
   "id": "a4a4300f",
   "metadata": {},
   "source": [
    "# Generate Random Number\n",
    "\n",
    "NumPy offers the <b>random</b> module to work with random numbers."
   ]
  },
  {
   "cell_type": "markdown",
   "id": "f3dfe4b8",
   "metadata": {},
   "source": [
    "<i>Generate a random integer from 0 to 100:</i>"
   ]
  },
  {
   "cell_type": "code",
   "execution_count": 11,
   "id": "2b2f065a",
   "metadata": {},
   "outputs": [
    {
     "name": "stdout",
     "output_type": "stream",
     "text": [
      "12\n"
     ]
    }
   ],
   "source": [
    "from numpy import random\n",
    "x = random.randint(20)\n",
    "print(x)"
   ]
  },
  {
   "cell_type": "markdown",
   "id": "646d1eb8",
   "metadata": {},
   "source": [
    "# Generate Random Float\n",
    "\n",
    "The random module's <b>rand()</b> method returns a random float between 0 and 1."
   ]
  },
  {
   "cell_type": "code",
   "execution_count": 13,
   "id": "8d7486a6",
   "metadata": {},
   "outputs": [
    {
     "name": "stdout",
     "output_type": "stream",
     "text": [
      "[0.66615318 0.76549906 0.34499157 0.22747512 0.80386701]\n"
     ]
    }
   ],
   "source": [
    "from numpy import random\n",
    "x = random.rand()\n",
    "print(x)"
   ]
  },
  {
   "cell_type": "markdown",
   "id": "8459d6c8",
   "metadata": {},
   "source": [
    "in this code above if you put any number, we will get the float value between 0 and 1 is that number of result."
   ]
  },
  {
   "cell_type": "code",
   "execution_count": 15,
   "id": "b9f01665",
   "metadata": {},
   "outputs": [
    {
     "name": "stdout",
     "output_type": "stream",
     "text": [
      "[0.40538893 0.4676702  0.86836006 0.205872   0.01643998]\n"
     ]
    }
   ],
   "source": [
    "from numpy import random\n",
    "x = random.rand(5) # so that we will get 5 float values between 0 and 1\n",
    "print(x)"
   ]
  },
  {
   "cell_type": "markdown",
   "id": "e9aa0d9f",
   "metadata": {},
   "source": [
    "### Let's Generate Random Name Choice"
   ]
  },
  {
   "cell_type": "code",
   "execution_count": 58,
   "id": "b2539638",
   "metadata": {},
   "outputs": [
    {
     "name": "stdout",
     "output_type": "stream",
     "text": [
      "Today's Winner **Jabed**\n"
     ]
    }
   ],
   "source": [
    "import numpy as np  \n",
    "from numpy import random\n",
    "arr = np.array([\"Renu\", \"Kona\", \"Tanha\", \"Shishir\", \"Rafsan\", \"Ayaan\", \"Jabed\"])\n",
    "\n",
    "select = random.choice(arr)\n",
    "print(f\"Today's Winner **{select}**\")"
   ]
  },
  {
   "cell_type": "markdown",
   "id": "b4ccd49b",
   "metadata": {},
   "source": [
    "# Generate Random Array\n",
    "\n",
    "In NumPy we work with arrays, and you can use the two methods from the above examples to make random arrays.\n",
    "Integers\n",
    "\n",
    "The <b>randint()</b> method takes a <b>size</b> parameter where you can specify the shape of an array."
   ]
  },
  {
   "cell_type": "markdown",
   "id": "cada46d6",
   "metadata": {},
   "source": [
    "<i><b>Generate a 1-D array containing 5 random integers from 0 to 100:</b></i>"
   ]
  },
  {
   "cell_type": "code",
   "execution_count": 38,
   "id": "22e01beb",
   "metadata": {},
   "outputs": [
    {
     "name": "stdout",
     "output_type": "stream",
     "text": [
      "[ 5 60 74 85 75 69 72 86 82 13]\n"
     ]
    }
   ],
   "source": [
    "from numpy import random\n",
    "x = random.randint(100, size = (10))\n",
    "print(x)"
   ]
  },
  {
   "cell_type": "markdown",
   "id": "06fe3b5e",
   "metadata": {},
   "source": [
    "<i><b>Generate a 2-D array with 3 rows, each row containing 5 random integers from 0 to 100:</b></i>"
   ]
  },
  {
   "cell_type": "code",
   "execution_count": 62,
   "id": "389bf535",
   "metadata": {},
   "outputs": [
    {
     "name": "stdout",
     "output_type": "stream",
     "text": [
      "[[80 67 36 47 28]\n",
      " [16 24 82 95 84]\n",
      " [70 34 29  0 32]]\n"
     ]
    }
   ],
   "source": [
    "from numpy import random\n",
    "\n",
    "x = random.randint(100, size=(3,5))\n",
    "print(x)"
   ]
  },
  {
   "cell_type": "markdown",
   "id": "e951d994",
   "metadata": {},
   "source": [
    "# Floats\n",
    "\n",
    "The <b>rand()</b> method also allows you to specify the shape of the array."
   ]
  },
  {
   "cell_type": "markdown",
   "id": "91db78ce",
   "metadata": {},
   "source": [
    "<i><b>Generate a 1-D array containing 5 random floats:</b></i>"
   ]
  },
  {
   "cell_type": "code",
   "execution_count": 67,
   "id": "ab3167f5",
   "metadata": {},
   "outputs": [
    {
     "name": "stdout",
     "output_type": "stream",
     "text": [
      "[0.8659687  0.9335455  0.47470701 0.677005   0.13199626]\n"
     ]
    }
   ],
   "source": [
    "from numpy import random\n",
    "\n",
    "x = random.rand(5)\n",
    "print(x)"
   ]
  },
  {
   "cell_type": "markdown",
   "id": "6a17da12",
   "metadata": {},
   "source": [
    "<i><b>Generate a 2-D array with 3 rows, each row containing 5 random numbers:</b></i>"
   ]
  },
  {
   "cell_type": "code",
   "execution_count": 68,
   "id": "a21c3af3",
   "metadata": {},
   "outputs": [
    {
     "name": "stdout",
     "output_type": "stream",
     "text": [
      "[[0.50175226 0.40616326 0.38750066 0.94329361 0.10966333]\n",
      " [0.13398759 0.02632999 0.92734563 0.77589843 0.85181232]\n",
      " [0.9866007  0.08642093 0.5221348  0.52291993 0.26156492]]\n"
     ]
    }
   ],
   "source": [
    "from numpy import random\n",
    "\n",
    "x = random.rand(3, 5)\n",
    "\n",
    "print(x) "
   ]
  },
  {
   "cell_type": "markdown",
   "id": "c498ab56",
   "metadata": {},
   "source": [
    "# Generate Random Number From Array\n",
    "\n",
    "The <b>choice()</b> method allows you to generate a random value based on an array of values.\n",
    "\n",
    "The <b>choice()</b> method takes an array as a parameter and randomly returns one of the values."
   ]
  },
  {
   "cell_type": "markdown",
   "id": "0f41e77d",
   "metadata": {},
   "source": [
    "<i><b>Return one of the values in an array:</b></i>"
   ]
  },
  {
   "cell_type": "code",
   "execution_count": 71,
   "id": "8e8c7bcf",
   "metadata": {},
   "outputs": [
    {
     "name": "stdout",
     "output_type": "stream",
     "text": [
      "Random number from [4, 6, 2, 9, 0, 7, 1, 8] is 8\n"
     ]
    }
   ],
   "source": [
    "from numpy import random\n",
    "\n",
    "array = [4, 6, 2, 9, 0, 7, 1, 8]\n",
    "x = random.choice(array)\n",
    "print(f\"Random number from {array} is {x}\")"
   ]
  },
  {
   "cell_type": "markdown",
   "id": "792a4a67",
   "metadata": {},
   "source": [
    "The <b>choice()</b> method also allows you to return an array of values.\n",
    "\n",
    "Add a <b>size</b> parameter to specify the shape of the array."
   ]
  },
  {
   "cell_type": "markdown",
   "id": "04dc17ae",
   "metadata": {},
   "source": [
    "<i><b>Generate a 1-D array</b></i>"
   ]
  },
  {
   "cell_type": "code",
   "execution_count": 84,
   "id": "73293ca1",
   "metadata": {},
   "outputs": [
    {
     "name": "stdout",
     "output_type": "stream",
     "text": [
      "[7 3 6 6]\n"
     ]
    }
   ],
   "source": [
    "from numpy import random\n",
    "\n",
    "x = random.choice([1, 2, 3, 4, 5, 6, 7, 8], size=(4))\n",
    "print(x)"
   ]
  },
  {
   "cell_type": "markdown",
   "id": "71a745e2",
   "metadata": {},
   "source": [
    "<i><b>Generate a 2-D array that consists of the values in the array parameter (3, 5, 7, and 9):</b></i>"
   ]
  },
  {
   "cell_type": "code",
   "execution_count": 79,
   "id": "88088caf",
   "metadata": {},
   "outputs": [
    {
     "name": "stdout",
     "output_type": "stream",
     "text": [
      "[[7 5 9]\n",
      " [5 5 5]\n",
      " [5 7 9]]\n"
     ]
    }
   ],
   "source": [
    "from numpy import random\n",
    "\n",
    "x = random.choice([3, 5, 7, 9], size=(3, 3))\n",
    "print(x)\n"
   ]
  },
  {
   "cell_type": "code",
   "execution_count": null,
   "id": "5a6ec809",
   "metadata": {},
   "outputs": [],
   "source": []
  }
 ],
 "metadata": {
  "kernelspec": {
   "display_name": "Python 3 (ipykernel)",
   "language": "python",
   "name": "python3"
  },
  "language_info": {
   "codemirror_mode": {
    "name": "ipython",
    "version": 3
   },
   "file_extension": ".py",
   "mimetype": "text/x-python",
   "name": "python",
   "nbconvert_exporter": "python",
   "pygments_lexer": "ipython3",
   "version": "3.9.13"
  }
 },
 "nbformat": 4,
 "nbformat_minor": 5
}
