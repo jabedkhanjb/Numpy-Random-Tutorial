{
 "cells": [
  {
   "cell_type": "markdown",
   "id": "df39a317",
   "metadata": {},
   "source": [
    "# What is a Random Number?\n",
    "\n",
    "Random number does NOT mean a different number every time. Random means something that can not be predicted logically."
   ]
  },
  {
   "cell_type": "markdown",
   "id": "babfcdec",
   "metadata": {},
   "source": [
    "#### @jabedkhanjb"
   ]
  },
  {
   "cell_type": "markdown",
   "id": "9f98fafc",
   "metadata": {},
   "source": [
    "# Pseudo Random and True Random.\n",
    "\n",
    "Computers work on programs, and programs are definitive set of instructions. So it means there must be some algorithm to generate a random number as well.\n",
    "\n",
    "If there is a program to generate random number it can be predicted, thus it is not truly random.\n",
    "\n",
    "Random numbers generated through a generation algorithm are called pseudo random.\n",
    "\n",
    "Can we make truly random numbers?\n",
    "\n",
    "Yes. In order to generate a truly random number on our computers we need to get the random data from some outside source. This outside source is generally our keystrokes, mouse movements, data on network etc.\n",
    "\n",
    "We do not need truly random numbers, unless its related to security (e.g. encryption keys) or the basis of application is the randomness (e.g. Digital roulette wheels).\n",
    "\n",
    "In this tutorial we will be using pseudo random numbers."
   ]
  },
  {
   "cell_type": "markdown",
   "id": "cd102494",
   "metadata": {},
   "source": [
    "# Generate Random Number\n",
    "\n",
    "NumPy offers the <b>random</b> module to work with random numbers."
   ]
  },
  {
   "cell_type": "markdown",
   "id": "24f88b18",
   "metadata": {},
   "source": [
    "<i>Generate a random integer from 0 to 100:</i>"
   ]
  },
  {
   "cell_type": "code",
   "execution_count": 11,
   "id": "339fa029",
   "metadata": {},
   "outputs": [
    {
     "name": "stdout",
     "output_type": "stream",
     "text": [
      "12\n"
     ]
    }
   ],
   "source": [
    "from numpy import random\n",
    "x = random.randint(20)\n",
    "print(x)"
   ]
  },
  {
   "cell_type": "markdown",
   "id": "dec33203",
   "metadata": {},
   "source": [
    "# Generate Random Float\n",
    "\n",
    "The random module's <b>rand()</b> method returns a random float between 0 and 1."
   ]
  },
  {
   "cell_type": "code",
   "execution_count": 13,
   "id": "2b83edec",
   "metadata": {},
   "outputs": [
    {
     "name": "stdout",
     "output_type": "stream",
     "text": [
      "[0.66615318 0.76549906 0.34499157 0.22747512 0.80386701]\n"
     ]
    }
   ],
   "source": [
    "from numpy import random\n",
    "x = random.rand()\n",
    "print(x)"
   ]
  },
  {
   "cell_type": "markdown",
   "id": "3c02b158",
   "metadata": {},
   "source": [
    "in this code above if you put any number, we will get the float value between 0 and 1 is that number of result."
   ]
  },
  {
   "cell_type": "code",
   "execution_count": 15,
   "id": "e70b8dc8",
   "metadata": {},
   "outputs": [
    {
     "name": "stdout",
     "output_type": "stream",
     "text": [
      "[0.40538893 0.4676702  0.86836006 0.205872   0.01643998]\n"
     ]
    }
   ],
   "source": [
    "from numpy import random\n",
    "x = random.rand(5) # so that we will get 5 float values between 0 and 1\n",
    "print(x)"
   ]
  },
  {
   "cell_type": "markdown",
   "id": "cf22d339",
   "metadata": {},
   "source": [
    "### Let's Generate Random Name Choice"
   ]
  },
  {
   "cell_type": "code",
   "execution_count": 58,
   "id": "8b876572",
   "metadata": {},
   "outputs": [
    {
     "name": "stdout",
     "output_type": "stream",
     "text": [
      "Today's Winner **Jabed**\n"
     ]
    }
   ],
   "source": [
    "import numpy as np  \n",
    "from numpy import random\n",
    "arr = np.array([\"Renu\", \"Kona\", \"Tanha\", \"Shishir\", \"Rafsan\", \"Ayaan\", \"Jabed\"])\n",
    "\n",
    "select = random.choice(arr)\n",
    "print(f\"Today's Winner **{select}**\")"
   ]
  },
  {
   "cell_type": "markdown",
   "id": "344bca6d",
   "metadata": {},
   "source": [
    "# Generate Random Array\n",
    "\n",
    "In NumPy we work with arrays, and you can use the two methods from the above examples to make random arrays.\n",
    "Integers\n",
    "\n",
    "The <b>randint()</b> method takes a <b>size</b> parameter where you can specify the shape of an array."
   ]
  },
  {
   "cell_type": "markdown",
   "id": "aed974a9",
   "metadata": {},
   "source": [
    "<i><b>Generate a 1-D array containing 5 random integers from 0 to 100:</b></i>"
   ]
  },
  {
   "cell_type": "code",
   "execution_count": 38,
   "id": "957e859c",
   "metadata": {},
   "outputs": [
    {
     "name": "stdout",
     "output_type": "stream",
     "text": [
      "[ 5 60 74 85 75 69 72 86 82 13]\n"
     ]
    }
   ],
   "source": [
    "from numpy import random\n",
    "x = random.randint(100, size = (10))\n",
    "print(x)"
   ]
  },
  {
   "cell_type": "markdown",
   "id": "1c1b6f37",
   "metadata": {},
   "source": [
    "<i><b>Generate a 2-D array with 3 rows, each row containing 5 random integers from 0 to 100:</b></i>"
   ]
  },
  {
   "cell_type": "code",
   "execution_count": 62,
   "id": "ba775bc9",
   "metadata": {},
   "outputs": [
    {
     "name": "stdout",
     "output_type": "stream",
     "text": [
      "[[80 67 36 47 28]\n",
      " [16 24 82 95 84]\n",
      " [70 34 29  0 32]]\n"
     ]
    }
   ],
   "source": [
    "from numpy import random\n",
    "\n",
    "x = random.randint(100, size=(3,5))\n",
    "print(x)"
   ]
  },
  {
   "cell_type": "markdown",
   "id": "ed1946e5",
   "metadata": {},
   "source": [
    "# Floats\n",
    "\n",
    "The <b>rand()</b> method also allows you to specify the shape of the array."
   ]
  },
  {
   "cell_type": "markdown",
   "id": "26eac600",
   "metadata": {},
   "source": [
    "<i><b>Generate a 1-D array containing 5 random floats:</b></i>"
   ]
  },
  {
   "cell_type": "code",
   "execution_count": 66,
   "id": "3dcb538a",
   "metadata": {},
   "outputs": [
    {
     "name": "stdout",
     "output_type": "stream",
     "text": [
      "[[0.23190084 0.07555031 0.49406868]\n",
      " [0.61257319 0.15058129 0.91394055]]\n"
     ]
    }
   ],
   "source": [
    "from numpy import random\n",
    "\n",
    "x = random.rand(2, 3)\n",
    "print(x)"
   ]
  },
  {
   "cell_type": "code",
   "execution_count": null,
   "id": "a9c96762",
   "metadata": {},
   "outputs": [],
   "source": []
  }
 ],
 "metadata": {
  "kernelspec": {
   "display_name": "Python 3 (ipykernel)",
   "language": "python",
   "name": "python3"
  },
  "language_info": {
   "codemirror_mode": {
    "name": "ipython",
    "version": 3
   },
   "file_extension": ".py",
   "mimetype": "text/x-python",
   "name": "python",
   "nbconvert_exporter": "python",
   "pygments_lexer": "ipython3",
   "version": "3.9.13"
  }
 },
 "nbformat": 4,
 "nbformat_minor": 5
}
