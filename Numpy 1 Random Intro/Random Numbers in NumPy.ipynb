{
 "cells": [
  {
   "cell_type": "markdown",
   "id": "6347c4c6",
   "metadata": {},
   "source": [
    "# What is a Random Number?\n",
    "\n",
    "Random number does NOT mean a different number every time. Random means something that can not be predicted logically."
   ]
  },
  {
   "cell_type": "markdown",
   "id": "ab907fb2",
   "metadata": {},
   "source": [
    "# Pseudo Random and True Random.\n",
    "\n",
    "Computers work on programs, and programs are definitive set of instructions. So it means there must be some algorithm to generate a random number as well.\n",
    "\n",
    "If there is a program to generate random number it can be predicted, thus it is not truly random.\n",
    "\n",
    "Random numbers generated through a generation algorithm are called pseudo random.\n",
    "\n",
    "Can we make truly random numbers?\n",
    "\n",
    "Yes. In order to generate a truly random number on our computers we need to get the random data from some outside source. This outside source is generally our keystrokes, mouse movements, data on network etc.\n",
    "\n",
    "We do not need truly random numbers, unless its related to security (e.g. encryption keys) or the basis of application is the randomness (e.g. Digital roulette wheels).\n",
    "\n",
    "In this tutorial we will be using pseudo random numbers."
   ]
  },
  {
   "cell_type": "markdown",
   "id": "abf612d3",
   "metadata": {},
   "source": [
    "# Generate Random Number\n",
    "\n",
    "NumPy offers the <b>random</b> module to work with random numbers."
   ]
  },
  {
   "cell_type": "markdown",
   "id": "e4d6977e",
   "metadata": {},
   "source": [
    "<i>Generate a random integer from 0 to 100:</i>"
   ]
  },
  {
   "cell_type": "code",
   "execution_count": 11,
   "id": "4b84af73",
   "metadata": {},
   "outputs": [
    {
     "name": "stdout",
     "output_type": "stream",
     "text": [
      "12\n"
     ]
    }
   ],
   "source": [
    "from numpy import random\n",
    "x = random.randint(20)\n",
    "print(x)"
   ]
  },
  {
   "cell_type": "markdown",
   "id": "5df51934",
   "metadata": {},
   "source": [
    "# Generate Random Float\n",
    "\n",
    "The random module's <b>rand()</b> method returns a random float between 0 and 1."
   ]
  },
  {
   "cell_type": "code",
   "execution_count": 13,
   "id": "19dbd15c",
   "metadata": {},
   "outputs": [
    {
     "name": "stdout",
     "output_type": "stream",
     "text": [
      "[0.66615318 0.76549906 0.34499157 0.22747512 0.80386701]\n"
     ]
    }
   ],
   "source": [
    "from numpy import random\n",
    "x = random.rand()\n",
    "print(x)"
   ]
  },
  {
   "cell_type": "code",
   "execution_count": null,
   "id": "dd31e00f",
   "metadata": {},
   "outputs": [],
   "source": [
    "in this code above if you put any number, we will get th"
   ]
  },
  {
   "cell_type": "code",
   "execution_count": null,
   "id": "063a1ad7",
   "metadata": {},
   "outputs": [],
   "source": []
  }
 ],
 "metadata": {
  "kernelspec": {
   "display_name": "Python 3 (ipykernel)",
   "language": "python",
   "name": "python3"
  },
  "language_info": {
   "codemirror_mode": {
    "name": "ipython",
    "version": 3
   },
   "file_extension": ".py",
   "mimetype": "text/x-python",
   "name": "python",
   "nbconvert_exporter": "python",
   "pygments_lexer": "ipython3",
   "version": "3.9.13"
  }
 },
 "nbformat": 4,
 "nbformat_minor": 5
}
