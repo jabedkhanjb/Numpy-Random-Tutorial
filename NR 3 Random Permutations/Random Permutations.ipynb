{
 "cells": [
  {
   "cell_type": "markdown",
   "id": "73cdd846",
   "metadata": {},
   "source": [
    "# Random Permutations"
   ]
  },
  {
   "cell_type": "markdown",
   "id": "482e37fe",
   "metadata": {},
   "source": [
    "#### @jabedkhanjb"
   ]
  },
  {
   "cell_type": "markdown",
   "id": "fb0a25f1",
   "metadata": {},
   "source": [
    "# Random Permutations of Elements\n",
    "\n",
    "A permutation refers to an arrangement of elements. e.g. [3, 2, 1] is a permutation of [1, 2, 3] and vice-versa.\n",
    "\n",
    "The NumPy Random module provides two methods for this: <b>shuffle()</b> and <b>permutation()</b>."
   ]
  },
  {
   "cell_type": "markdown",
   "id": "80228aa2",
   "metadata": {},
   "source": [
    "# Shuffling Arrays\n",
    "\n",
    "Shuffle means changing arrangement of elements in-place. i.e. in the array itself."
   ]
  },
  {
   "cell_type": "markdown",
   "id": "c05f4a63",
   "metadata": {},
   "source": [
    "<i><b>Randomly shuffle elements of following array:</b></i>"
   ]
  },
  {
   "cell_type": "code",
   "execution_count": 19,
   "id": "cbe44d49",
   "metadata": {},
   "outputs": [
    {
     "name": "stdout",
     "output_type": "stream",
     "text": [
      "[5 1 2 3 4]\n"
     ]
    }
   ],
   "source": [
    "import numpy as np\n",
    "from numpy import random\n",
    "\n",
    "arr = np.array([1, 2, 3, 4, 5])\n",
    "\n",
    "random.shuffle(arr)\n",
    "print(arr)"
   ]
  },
  {
   "cell_type": "markdown",
   "id": "6378d70f",
   "metadata": {},
   "source": [
    "<i>Shuffling name</i>"
   ]
  },
  {
   "cell_type": "code",
   "execution_count": 17,
   "id": "51a721e6",
   "metadata": {},
   "outputs": [
    {
     "name": "stdout",
     "output_type": "stream",
     "text": [
      "['Kona' 'Jabed' 'Renu']\n"
     ]
    }
   ],
   "source": [
    "from numpy import random\n",
    "import numpy as np\n",
    "newarray = np.array([\"Jabed\", \"Renu\", \"Kona\"])\n",
    "random.shuffle(newarray)\n",
    "print(newarray)"
   ]
  },
  {
   "cell_type": "markdown",
   "id": "9e1638c5",
   "metadata": {},
   "source": [
    "<b>The shuffle() method makes changes to the original array.</b>"
   ]
  },
  {
   "cell_type": "markdown",
   "id": "a95a25e7",
   "metadata": {},
   "source": [
    "# Generating Permutation of Arrays"
   ]
  },
  {
   "cell_type": "markdown",
   "id": "ea001070",
   "metadata": {},
   "source": [
    "<i><b>Generate a random permutation of elements of following array:</b></i>"
   ]
  },
  {
   "cell_type": "code",
   "execution_count": 31,
   "id": "31a0d33f",
   "metadata": {},
   "outputs": [
    {
     "name": "stdout",
     "output_type": "stream",
     "text": [
      "Random Generated Array \n",
      "[5 2 4 1 3]\n",
      "\n",
      "Original Array \n",
      "[1 2 3 4 5]\n"
     ]
    }
   ],
   "source": [
    "from numpy import random\n",
    "import numpy as np\n",
    "\n",
    "arr = np.array([1, 2, 3, 4, 5])\n",
    "\n",
    "# keyword permutation()\n",
    "print(f\"Random Generated Array \\n{random.permutation(arr)}\")\n",
    "print(f\"\\nOriginal Array \\n{arr}\")\n",
    "\n"
   ]
  },
  {
   "cell_type": "code",
   "execution_count": null,
   "id": "9e34310c",
   "metadata": {},
   "outputs": [],
   "source": []
  },
  {
   "cell_type": "code",
   "execution_count": null,
   "id": "fc3792d5",
   "metadata": {},
   "outputs": [],
   "source": []
  }
 ],
 "metadata": {
  "kernelspec": {
   "display_name": "Python 3 (ipykernel)",
   "language": "python",
   "name": "python3"
  },
  "language_info": {
   "codemirror_mode": {
    "name": "ipython",
    "version": 3
   },
   "file_extension": ".py",
   "mimetype": "text/x-python",
   "name": "python",
   "nbconvert_exporter": "python",
   "pygments_lexer": "ipython3",
   "version": "3.9.13"
  }
 },
 "nbformat": 4,
 "nbformat_minor": 5
}
