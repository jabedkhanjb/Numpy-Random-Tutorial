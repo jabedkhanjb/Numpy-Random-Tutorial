{
 "cells": [
  {
   "cell_type": "markdown",
   "id": "0e3b23f7",
   "metadata": {},
   "source": [
    "# Random Permutations"
   ]
  },
  {
   "cell_type": "markdown",
   "id": "1c505cac",
   "metadata": {},
   "source": [
    "#### @jabedkhanjb"
   ]
  },
  {
   "cell_type": "markdown",
   "id": "5f9bf7cf",
   "metadata": {},
   "source": [
    "# Random Permutations of Elements\n",
    "\n",
    "A permutation refers to an arrangement of elements. e.g. [3, 2, 1] is a permutation of [1, 2, 3] and vice-versa.\n",
    "\n",
    "The NumPy Random module provides two methods for this: <b>shuffle()</b> and <b>permutation()</b>."
   ]
  },
  {
   "cell_type": "markdown",
   "id": "cccefb4a",
   "metadata": {},
   "source": [
    "# Shuffling Arrays\n",
    "\n",
    "Shuffle means changing arrangement of elements in-place. i.e. in the array itself."
   ]
  },
  {
   "cell_type": "markdown",
   "id": "d1b29c31",
   "metadata": {},
   "source": [
    "<i><b>Randomly shuffle elements of following array:</b></i>"
   ]
  },
  {
   "cell_type": "code",
   "execution_count": 19,
   "id": "5a873bb2",
   "metadata": {},
   "outputs": [
    {
     "name": "stdout",
     "output_type": "stream",
     "text": [
      "[5 1 2 3 4]\n"
     ]
    }
   ],
   "source": [
    "import numpy as np\n",
    "from numpy import random\n",
    "\n",
    "arr = np.array([1, 2, 3, 4, 5])\n",
    "\n",
    "random.shuffle(arr)\n",
    "print(arr)"
   ]
  },
  {
   "cell_type": "markdown",
   "id": "f051e746",
   "metadata": {},
   "source": [
    "<i>Shuffling name</i>"
   ]
  },
  {
   "cell_type": "code",
   "execution_count": 17,
   "id": "5f416e0f",
   "metadata": {},
   "outputs": [
    {
     "name": "stdout",
     "output_type": "stream",
     "text": [
      "['Kona' 'Jabed' 'Renu']\n"
     ]
    }
   ],
   "source": [
    "from numpy import random\n",
    "import numpy as np\n",
    "newarray = np.array([\"Jabed\", \"Renu\", \"Kona\"])\n",
    "random.shuffle(newarray)\n",
    "print(newarray)"
   ]
  },
  {
   "cell_type": "markdown",
   "id": "637f7b30",
   "metadata": {},
   "source": [
    "<b>The shuffle() method makes changes to the original array.</b>"
   ]
  },
  {
   "cell_type": "markdown",
   "id": "a440e094",
   "metadata": {},
   "source": [
    "# Generating Permutation of Arrays"
   ]
  },
  {
   "cell_type": "markdown",
   "id": "e10146f0",
   "metadata": {},
   "source": [
    "<i><b>Generate a random permutation of elements of following array:</b></i>"
   ]
  },
  {
   "cell_type": "code",
   "execution_count": 32,
   "id": "9769f6ee",
   "metadata": {},
   "outputs": [
    {
     "name": "stdout",
     "output_type": "stream",
     "text": [
      "Random Generated Array \n",
      "[3 2 4 5 1]\n",
      "\n",
      "Original Array \n",
      "[1 2 3 4 5]\n"
     ]
    }
   ],
   "source": [
    "from numpy import random\n",
    "import numpy as np\n",
    "\n",
    "arr = np.array([1, 2, 3, 4, 5])\n",
    "\n",
    "# keyword permutation()\n",
    "print(f\"Random Generated Array \\n{random.permutation(arr)}\")\n",
    "print(f\"\\nOriginal Array \\n{arr}\")\n",
    "\n"
   ]
  },
  {
   "cell_type": "markdown",
   "id": "4fe69fae",
   "metadata": {},
   "source": [
    "<i>The <b>permutation()</b> method returns a re-arranged array (and leaves the original array un-changed).</i>"
   ]
  },
  {
   "cell_type": "code",
   "execution_count": 33,
   "id": "ae2bfeea",
   "metadata": {},
   "outputs": [
    {
     "name": "stdout",
     "output_type": "stream",
     "text": [
      "The End\n"
     ]
    }
   ],
   "source": [
    "print(\"The End\")"
   ]
  },
  {
   "cell_type": "code",
   "execution_count": null,
   "id": "8bdd8809",
   "metadata": {},
   "outputs": [],
   "source": []
  }
 ],
 "metadata": {
  "kernelspec": {
   "display_name": "Python 3 (ipykernel)",
   "language": "python",
   "name": "python3"
  },
  "language_info": {
   "codemirror_mode": {
    "name": "ipython",
    "version": 3
   },
   "file_extension": ".py",
   "mimetype": "text/x-python",
   "name": "python",
   "nbconvert_exporter": "python",
   "pygments_lexer": "ipython3",
   "version": "3.9.13"
  }
 },
 "nbformat": 4,
 "nbformat_minor": 5
}
